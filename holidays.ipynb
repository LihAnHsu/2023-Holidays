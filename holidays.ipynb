{
  "nbformat": 4,
  "nbformat_minor": 0,
  "metadata": {
    "colab": {
      "provenance": []
    },
    "kernelspec": {
      "name": "python3",
      "display_name": "Python 3"
    },
    "language_info": {
      "name": "python"
    }
  },
  "cells": [
    {
      "cell_type": "markdown",
      "source": [
        "https://www.officeholidays.com/countries"
      ],
      "metadata": {
        "id": "u-oleVpUCP-h"
      }
    },
    {
      "cell_type": "markdown",
      "source": [
        "Keep data only for National Holidays from web"
      ],
      "metadata": {
        "id": "dQOnEWedp-ht"
      }
    },
    {
      "cell_type": "code",
      "source": [
        "import requests\n",
        "from bs4 import BeautifulSoup\n",
        "import pandas as pd\n",
        "\n",
        "# Send a GET request to the web page\n",
        "url = 'https://www.officeholidays.com/countries/taiwan/2023'\n",
        "response = requests.get(url)\n",
        "\n",
        "# Create a BeautifulSoup object to parse the HTML content\n",
        "soup = BeautifulSoup(response.content, 'html.parser')\n",
        "\n",
        "# Find all the rows in the table with class 'country-table'\n",
        "rows = soup.select('table.country-table tr')\n",
        "\n",
        "# Extract the date and holiday name from each row and store them in lists\n",
        "dates = []\n",
        "holiday_names = []\n",
        "\n",
        "for row in rows:\n",
        "    date_element = row.select_one('time[itemprop=\"startDate\"]')\n",
        "    holiday_element = row.select_one('a.country-listing')\n",
        "    comment_element = row.select_one('td.comments')\n",
        "\n",
        "    if date_element and holiday_element and comment_element:\n",
        "        comment = comment_element.text.strip()\n",
        "\n",
        "        if comment == 'National Holiday':\n",
        "            date = date_element.text.strip()\n",
        "            holiday_name = holiday_element.text.strip()\n",
        "            dates.append(date)\n",
        "            holiday_names.append(holiday_name)\n",
        "\n",
        "# Create a DataFrame from the extracted data\n",
        "data = {'Date': dates, 'Holiday Name': holiday_names}\n",
        "df = pd.DataFrame(data)\n",
        "\n",
        "# Print the DataFrame\n",
        "print(df)\n",
        "\n",
        "df.to_csv('holidays_TW.csv', index=False)"
      ],
      "metadata": {
        "colab": {
          "base_uri": "https://localhost:8080/"
        },
        "id": "jANi5dXTlh2u",
        "outputId": "f904555b-c112-4bdc-db19-e298a4efcb1c"
      },
      "execution_count": null,
      "outputs": [
        {
          "output_type": "stream",
          "name": "stdout",
          "text": [
            "      Date                       Holiday Name\n",
            "0   Jan 01                       Republic Day\n",
            "1   Jan 02               Republic Day Holiday\n",
            "2   Jan 20             Lunar New Year Holiday\n",
            "3   Jan 21               Lunar New Year's Eve\n",
            "4   Jan 22                     Lunar New Year\n",
            "5   Jan 23             Lunar New Year Holiday\n",
            "6   Jan 24             Lunar New Year Holiday\n",
            "7   Jan 25             Lunar New Year Holiday\n",
            "8   Jan 26             Lunar New Year Holiday\n",
            "9   Jan 27             Lunar New Year Holiday\n",
            "10  Feb 27         Peace Memorial Day Holiday\n",
            "11  Feb 28                 Peace Memorial Day\n",
            "12  Apr 03        Children's Day (bridge day)\n",
            "13  Apr 04                     Children's Day\n",
            "14  Apr 05                  Tomb-Sweeping Day\n",
            "15  May 01                          Labor day\n",
            "16  Jun 22               Dragon Boat Festival\n",
            "17  Jun 23  Dragon Boat Festival (bridge day)\n",
            "18  Sep 29                Mid-Autumn Festival\n",
            "19  Oct 09          National Day (bridge day)\n",
            "20  Oct 10                       National Day\n",
            "21  Dec 31                       Republic Day\n"
          ]
        }
      ]
    },
    {
      "cell_type": "code",
      "source": [
        "# Send a GET request to the web page\n",
        "url = 'https://www.officeholidays.com/countries/usa'\n",
        "response = requests.get(url)\n",
        "\n",
        "# Create a BeautifulSoup object to parse the HTML content\n",
        "soup = BeautifulSoup(response.content, 'html.parser')\n",
        "\n",
        "# Find all the rows in the table with class 'country-table'\n",
        "rows = soup.select('table.country-table tr')\n",
        "\n",
        "# Extract the date and holiday name from each row and store them in lists\n",
        "dates = []\n",
        "holiday_names = []\n",
        "\n",
        "for row in rows:\n",
        "    date_element = row.select_one('time[itemprop=\"startDate\"]')\n",
        "    holiday_element = row.select_one('a.country-listing')\n",
        "    comment_element = row.select_one('td.comments')\n",
        "\n",
        "    if date_element and holiday_element and comment_element:\n",
        "        comment = comment_element.text.strip()\n",
        "\n",
        "        if comment == 'Federal Holiday' or 'Reginal Holiday':\n",
        "            date = date_element.text.strip()\n",
        "            holiday_name = holiday_element.text.strip()\n",
        "            dates.append(date)\n",
        "            holiday_names.append(holiday_name)\n",
        "\n",
        "# Create a DataFrame from the extracted data\n",
        "data = {'Date': dates, 'Holiday Name': holiday_names}\n",
        "df_usa = pd.DataFrame(data)\n",
        "\n",
        "# Convert \"Holiday Name\" column to string type\n",
        "df_usa['Holiday Name'] = df_usa['Holiday Name'].astype(str)\n",
        "\n",
        "# Exclude rows with \"Not A Public Holiday\"\n",
        "df_usa = df_usa[~df_usa['Holiday Name'].str.contains('Not A Public Holiday')]\n",
        "\n",
        "# Print the DataFrame\n",
        "print(df_usa)"
      ],
      "metadata": {
        "colab": {
          "base_uri": "https://localhost:8080/"
        },
        "id": "-Rvm4jFmsr0E",
        "outputId": "133086a4-035b-4b51-9cbc-d2e851bd48b2"
      },
      "execution_count": null,
      "outputs": [
        {
          "output_type": "stream",
          "name": "stdout",
          "text": [
            "      Date                Holiday Name\n",
            "0   Jan 01              New Year's Day\n",
            "1   Jan 02    New Year's Day (in lieu)\n",
            "2   Jan 16  Martin Luther King Jr. Day\n",
            "3   Feb 20             President's Day\n",
            "4   Apr 09               Easter Sunday\n",
            "5   May 14                Mother's Day\n",
            "6   May 29                Memorial Day\n",
            "7   Jun 18                Father's Day\n",
            "8   Jun 19                  Juneteenth\n",
            "9   Jul 04            Independence Day\n",
            "10  Sep 04                   Labor Day\n",
            "11  Oct 02                 Cabrini Day\n",
            "12  Oct 09                Columbus Day\n",
            "13  Oct 09  US Indigenous People's Day\n",
            "14  Nov 10                Veterans Day\n",
            "15  Nov 11                Veterans Day\n",
            "16  Nov 13                Veterans Day\n",
            "17  Nov 23                Thanksgiving\n",
            "18  Nov 24      Day after Thanksgiving\n",
            "19  Dec 25               Christmas Day\n",
            "20  Dec 27           Christmas Holiday\n"
          ]
        }
      ]
    },
    {
      "cell_type": "markdown",
      "source": [
        "Exclude 'Not Public Day'"
      ],
      "metadata": {
        "id": "ZPFq2u_ju-ML"
      }
    },
    {
      "cell_type": "code",
      "source": [
        "# Send a GET request to the web page\n",
        "url = 'https://www.officeholidays.com/countries/usa'\n",
        "response = requests.get(url)\n",
        "\n",
        "# Create a BeautifulSoup object to parse the HTML content\n",
        "soup = BeautifulSoup(response.content, 'html.parser')\n",
        "\n",
        "# Find all the rows in the table with class 'country-table'\n",
        "rows = soup.select('table.country-table tr')\n",
        "\n",
        "# Extract the date and holiday name from each row and store them in lists\n",
        "dates = []\n",
        "holiday_names = []\n",
        "\n",
        "for row in rows:\n",
        "    date_element = row.select_one('time[itemprop=\"startDate\"]')\n",
        "    holiday_element = row.select_one('a.country-listing')\n",
        "    comment_element = row.select_one('td.comments')\n",
        "\n",
        "    if date_element and holiday_element and comment_element:\n",
        "        comment = comment_element.text.strip()\n",
        "\n",
        "        if comment != 'Not A Public Holiday':\n",
        "            date = date_element.text.strip()\n",
        "            holiday_name = holiday_element.text.strip()\n",
        "            dates.append(date)\n",
        "            holiday_names.append(holiday_name)\n",
        "\n",
        "# Create a DataFrame from the extracted data\n",
        "data = {'Date': dates, 'Holiday Name': holiday_names}\n",
        "df_usa = pd.DataFrame(data)\n",
        "\n",
        "# Convert \"Holiday Name\" column to string type\n",
        "df_usa['Holiday Name'] = df_usa['Holiday Name'].astype(str)\n",
        "\n",
        "# Print the DataFrame\n",
        "print(df_usa)\n",
        "df_usa.to_csv('holidays_USA.csv', index=False)"
      ],
      "metadata": {
        "colab": {
          "base_uri": "https://localhost:8080/"
        },
        "id": "JRGsrWEEs3HU",
        "outputId": "307eb654-695e-4bb0-f84f-44ad7a014a46"
      },
      "execution_count": null,
      "outputs": [
        {
          "output_type": "stream",
          "name": "stdout",
          "text": [
            "      Date                Holiday Name\n",
            "0   Jan 01              New Year's Day\n",
            "1   Jan 02    New Year's Day (in lieu)\n",
            "2   Jan 16  Martin Luther King Jr. Day\n",
            "3   Feb 20             President's Day\n",
            "4   May 29                Memorial Day\n",
            "5   Jun 19                  Juneteenth\n",
            "6   Jul 04            Independence Day\n",
            "7   Sep 04                   Labor Day\n",
            "8   Oct 02                 Cabrini Day\n",
            "9   Oct 09                Columbus Day\n",
            "10  Oct 09  US Indigenous People's Day\n",
            "11  Nov 10                Veterans Day\n",
            "12  Nov 11                Veterans Day\n",
            "13  Nov 13                Veterans Day\n",
            "14  Nov 23                Thanksgiving\n",
            "15  Nov 24      Day after Thanksgiving\n",
            "16  Dec 25               Christmas Day\n",
            "17  Dec 27           Christmas Holiday\n"
          ]
        }
      ]
    }
  ]
}